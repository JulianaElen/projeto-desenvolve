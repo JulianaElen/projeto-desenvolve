{
 "cells": [
  {
   "cell_type": "markdown",
   "id": "c87bc264",
   "metadata": {},
   "source": [
    "> Projeto Desenvolve <br>\n",
    "Programação Intermediária com Python <br>\n",
    "Profa. Camila Laranjeira (mila@projetodesenvolve.com.br) <br>\n",
    "\n",
    "# 1.1 - Recursividade"
   ]
  },
  {
   "cell_type": "markdown",
   "id": "02e47197",
   "metadata": {},
   "source": [
    "## Exercícios:\n",
    "\n",
    "#### **Q1**. \n",
    "Faça um procedimento recursivo que receba dois valores inteiros `a` e `b` e imprime o intervalo fechado entre eles. Se `a > b` imprima uma mensagem de erro.\n",
    "\n",
    "| Entrada |  Saída |\n",
    "| ------- | ------ |\n",
    "| 1 10    | 1 2 3 4 5 6 7 8 9 10 |\n",
    "| -5 1    | -5 -4 -3 -2 -1 |\n",
    "| 5 -5    | Valores invalidos |\n",
    "| 17 20   | 17 18 19 20 |"
   ]
  },
  {
   "cell_type": "code",
   "execution_count": null,
   "id": "e89a9966",
   "metadata": {},
   "outputs": [
    {
     "name": "stdout",
     "output_type": "stream",
     "text": [
      "Intervalo fechado de 1 e 10\n",
      "1\n",
      "2\n",
      "3\n",
      "4\n",
      "5\n",
      "6\n",
      "7\n",
      "8\n",
      "9\n",
      "10\n",
      "Intervalo fechado de -5 e 1\n",
      "-5\n",
      "-4\n",
      "-3\n",
      "-2\n",
      "-1\n",
      "0\n",
      "1\n",
      "Intervalo fechado de 5 e -5\n",
      "Valores invalidos \n",
      "O valor de a deve ser menor que o valor de b.\n",
      "Intervalo fechado de 17 e 20\n",
      "17\n",
      "18\n",
      "19\n",
      "20\n"
     ]
    }
   ],
   "source": [
    "def intevalo_fechado(a, b):\n",
    "    if (a > b):\n",
    "        print(\"Valores invalidos \\nO valor de a deve ser menor que o valor de b.\")\n",
    "    elif (a == b):\n",
    "        print(f\"{b}\")\n",
    "    else:\n",
    "        print(f\"{a}\")\n",
    "        return intevalo_fechado( a+1, b)\n",
    "\n",
    "print(f\"Intervalo fechado de {1} e {10}:\")  \n",
    "intevalo_fechado(1, 10)\n",
    "print(f\"Intervalo fechado de {-5} e {1}:\")\n",
    "intevalo_fechado(-5, 1)\n",
    "print(f\"Intervalo fechado de {5} e {-5}:\")\n",
    "intevalo_fechado(5, -5)\n",
    "print(f\"Intervalo fechado de {17} e {20}:\")\n",
    "intevalo_fechado(17, 20)\n",
    "\n",
    "\n"
   ]
  },
  {
   "cell_type": "markdown",
   "id": "b48196ed",
   "metadata": {},
   "source": [
    "---\n",
    "\n",
    "\n",
    "#### **Q2**. \n",
    "Mudando **apenas uma linha**, altere o código anterior para imprimir o intervalo invertido.\n",
    "\n",
    "| Entrada |  Saída |\n",
    "| ------- | ------ |\n",
    "| 1 10    | 10 9 8 7 6 5 4 3 2 1 |\n",
    "| -5 1    | -1 -2 -3 -4 -5 |\n",
    "| 5 -5    | Valores invalidos |\n",
    "| 17 20   | 20 19 18 17 |"
   ]
  },
  {
   "cell_type": "code",
   "execution_count": 74,
   "id": "4d0c21b4",
   "metadata": {},
   "outputs": [
    {
     "name": "stdout",
     "output_type": "stream",
     "text": [
      "Intervalo fechado de 1 e 10:\n",
      "10\n",
      "9\n",
      "8\n",
      "7\n",
      "6\n",
      "5\n",
      "4\n",
      "3\n",
      "2\n",
      "1\n",
      "Intervalo fechado de -5 e 1:\n",
      "1\n",
      "0\n",
      "-1\n",
      "-2\n",
      "-3\n",
      "-4\n",
      "-5\n",
      "Intervalo fechado de 5 e -5:\n",
      "Valores invalidos \n",
      "O valor de a deve ser menor que o valor de b.\n",
      "Intervalo fechado de 17 e 20:\n",
      "20\n",
      "19\n",
      "18\n",
      "17\n"
     ]
    }
   ],
   "source": [
    "def intevalo_fechado(a, b):\n",
    "    if (a > b):\n",
    "        print(\"Valores invalidos \\nO valor de a deve ser menor que o valor de b.\")\n",
    "    elif (a == b):\n",
    "        print(f\"{b}\")\n",
    "    else:\n",
    "        print(f\"{b}\") #Tive que mudar essa linha para imprimir o valor de b \n",
    "        return intevalo_fechado( a, b-1) #Como também tive que mudar essa\n",
    "\n",
    "print(f\"Intervalo fechado de {1} e {10}:\")  \n",
    "intevalo_fechado(1, 10)\n",
    "print(f\"Intervalo fechado de {-5} e {1}:\")\n",
    "intevalo_fechado(-5, 1)\n",
    "print(f\"Intervalo fechado de {5} e {-5}:\")\n",
    "intevalo_fechado(5, -5)\n",
    "print(f\"Intervalo fechado de {17} e {20}:\")\n",
    "intevalo_fechado(17, 20)\n",
    "\n",
    "\n"
   ]
  },
  {
   "cell_type": "markdown",
   "id": "be727074",
   "metadata": {},
   "source": [
    "\n",
    "\n",
    "---\n",
    "\n",
    "\n",
    "#### **Q3**. \n",
    "Escreva uma função recursiva que recebe um inteiro `n > 1` e calcula a soma dos valores entre `n` e `1`.\n",
    "\n",
    "| Entrada |  Saída |\n",
    "| ------- | ------ |\n",
    "| 5   | 15 |\n",
    "| 13  | 78 |"
   ]
  },
  {
   "cell_type": "code",
   "execution_count": null,
   "id": "c4da98b8",
   "metadata": {},
   "outputs": [
    {
     "name": "stdout",
     "output_type": "stream",
     "text": [
      "O valor da soma dos interios de 1 até 5 é 15\n",
      "O valor da soma dos interios de 1 até 13 é 91\n"
     ]
    }
   ],
   "source": [
    "def calcula_soma(n):\n",
    "    if( n < 0):\n",
    "        print(\"Deve ser um inteiro positivo.\")\n",
    "    if(n == 0):\n",
    "        return 0\n",
    "    else:\n",
    "        return n + calcula_soma(n-1)\n",
    "    \n",
    "print(f\"O valor da soma dos interios de 1 até 5 é {calcula_soma(5)}\")\n",
    "print(f\"O valor da soma dos interios de 1 até 13 é {calcula_soma(13)}\") # eu fiz os calculos dessa atividade e a soma dos numeros deve dar 91 e não 78"
   ]
  },
  {
   "cell_type": "markdown",
   "id": "4142b276",
   "metadata": {},
   "source": [
    "\n",
    "\n",
    "---\n",
    "\n",
    "\n",
    "#### **Q4**.  \n",
    "\n",
    "Escreva uma função recursiva que recebe um inteiro `n` e verifica se `n`é um valor primo, ou seja, se é divisível apenas por si mesmo e por `1`."
   ]
  },
  {
   "cell_type": "code",
   "execution_count": 53,
   "id": "4c96eb2d",
   "metadata": {},
   "outputs": [
    {
     "name": "stdout",
     "output_type": "stream",
     "text": [
      "Conferindo se os números de 1 até 15 são primos:\n",
      "1: É primo.\n",
      "2: É primo.\n",
      "3: É primo.\n",
      "4: Não é primo.\n",
      "5: É primo.\n",
      "6: Não é primo.\n",
      "7: É primo.\n",
      "8: Não é primo.\n",
      "9: Não é primo.\n",
      "10: Não é primo.\n",
      "11: É primo.\n",
      "12: Não é primo.\n",
      "13: É primo.\n",
      "14: Não é primo.\n",
      "15: Não é primo.\n"
     ]
    }
   ],
   "source": [
    "def calculo_primaridade(n, i):\n",
    "    if(n == i):\n",
    "        print(f\"{num}: É primo.\")\n",
    "    elif(n%(i) == 0):\n",
    "        print(f\"{num}: Não é primo.\")\n",
    "    else:\n",
    "        calculo_primaridade(n,i+1)\n",
    "\n",
    "\n",
    "def primaridade(n):\n",
    "    if(n == 1 or n == 2):\n",
    "        print(f\"{num}: É primo.\")\n",
    "    else:\n",
    "        calculo_primaridade(n,2)\n",
    "\n",
    "print(\"Conferindo se os números de 1 até 15 são primos:\")\n",
    "\n",
    "for num in range(1,16):\n",
    "    primaridade(num)\n"
   ]
  },
  {
   "cell_type": "markdown",
   "id": "2a0ae81c",
   "metadata": {},
   "source": [
    "\n",
    "\n",
    "---\n",
    "\n",
    "\n",
    "#### **Q5**. \n",
    "Implemente uma função recursiva que recebe um número inteiro decimal e retorna sua representação binária como uma string. Para realizar essa conversão, utilize o método de divisão sucessiva, onde você divide o número decimal por 2 e coleta os restos até que o quociente seja zero. A ordem dos restos coletados, de baixo para cima, forma o número binário correspondente.\n",
    "\n",
    "**Exemplo de Conversão:**\n",
    "\n",
    "Para converter o número decimal 13 para binário:\n",
    "```\n",
    "13 ÷ 2 = 6, resto 1\n",
    "6 ÷ 2 = 3, resto 0\n",
    "3 ÷ 2 = 1, resto 1\n",
    "1 ÷ 2 = 0, resto 1\n",
    "```\n",
    "Lendo os restos de baixo para cima, obtemos o número binário `1101`."
   ]
  },
  {
   "cell_type": "code",
   "execution_count": 71,
   "id": "a7d954f0",
   "metadata": {},
   "outputs": [
    {
     "name": "stdout",
     "output_type": "stream",
     "text": [
      "O numero 13 em binario é: \n",
      "1 1 0 1 \n",
      "O numero 23 em binario é: \n",
      "1 0 1 1 1 \n",
      "O numero 11 em binario é: \n",
      "1 0 1 1 "
     ]
    }
   ],
   "source": [
    "#Utilizei uma pilha para armazenar os numeros do binario\n",
    "from typing import List\n",
    "\n",
    "p: List[int] = []\n",
    "\n",
    "def desempilha(p):\n",
    "    for i in p[::-1]:\n",
    "        print(i, end=\" \")\n",
    "        p.pop()\n",
    "\n",
    "def binario(n):\n",
    "    if(n == 1):\n",
    "        p.append(1)\n",
    "        desempilha(p)\n",
    "    else:\n",
    "        p.append(n%2)\n",
    "        binario(n//2)\n",
    "\n",
    "print(\"O numero 13 em binario é: \") #resposta esperada: 1101\n",
    "binario(13)\n",
    "print(\"\\nO numero 23 em binario é: \") #resposta esperada: 10111\n",
    "binario(23)\n",
    "print(\"\\nO numero 11 em binario é: \") #resposta esperada: 1011\n",
    "binario(11)\n"
   ]
  },
  {
   "cell_type": "markdown",
   "id": "0f500709",
   "metadata": {},
   "source": [
    "\n",
    "\n",
    "---\n",
    "\n",
    "\n",
    "#### **Extra**: \n",
    "\n",
    "Implemente uma função recursiva em Python que realiza a travessia em pré-ordem de uma árvore binária representada por listas aninhadas. Na travessia em pré-ordem (ou pré-fixada), o nó raiz é visitado primeiro, seguido pela subárvore esquerda e, por fim, pela subárvore direita. A questão fixa as constantes `RAIZ_IDX, ESQ_IDX, DIR_IDX` representando os índices da lista onde se encontra o valor raíz, o nó a esquerda e o nó a direita.\n",
    "\n",
    "```\n",
    "# Representação visual da árvore\n",
    "       4\n",
    "      / \\\n",
    "     2   5\n",
    "    / \\\n",
    "   1   3\n",
    "```"
   ]
  },
  {
   "cell_type": "code",
   "execution_count": null,
   "id": "10df4831",
   "metadata": {},
   "outputs": [
    {
     "name": "stdout",
     "output_type": "stream",
     "text": [
      "4 2 1 3 5 "
     ]
    }
   ],
   "source": [
    "RAIZ_IDX, ESQ_IDX, DIR_IDX = 0, 1, 2\n",
    "\n",
    "arvore = [\n",
    "    4,              # raíz, nível 0\n",
    "    [               # ramo da esquerda, nível 1\n",
    "        2,          # valor filho esquerda\n",
    "        [1, None, None],   # ramo da esquerda, nível 2\n",
    "        [3, None, None]    # ramo da direita, nível 2\n",
    "    ],\n",
    "    [               # ramo da direita, nível 1\n",
    "        5,          # valor filho da direita\n",
    "        None,              # ramo da esquerda, nível 2\n",
    "        None               # ramo da direita, nível 2\n",
    "    ]\n",
    "]\n",
    "\n",
    "def travessia(arv):\n",
    "    if arv is None:\n",
    "        return\n",
    "    \n",
    "    print(arv[RAIZ_IDX], end=\" \") \n",
    "    \n",
    "    if arv[ESQ_IDX] is not None:\n",
    "        travessia(arv[ESQ_IDX])\n",
    "    \n",
    "    if arv[DIR_IDX] is not None:\n",
    "        travessia(arv[DIR_IDX])\n",
    "\n",
    "travessia(arvore)"
   ]
  }
 ],
 "metadata": {
  "kernelspec": {
   "display_name": "Python 3",
   "language": "python",
   "name": "python3"
  },
  "language_info": {
   "codemirror_mode": {
    "name": "ipython",
    "version": 3
   },
   "file_extension": ".py",
   "mimetype": "text/x-python",
   "name": "python",
   "nbconvert_exporter": "python",
   "pygments_lexer": "ipython3",
   "version": "3.11.9"
  }
 },
 "nbformat": 4,
 "nbformat_minor": 5
}
